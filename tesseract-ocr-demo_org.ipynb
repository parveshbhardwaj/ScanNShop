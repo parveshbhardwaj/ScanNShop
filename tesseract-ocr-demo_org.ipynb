{
 "cells": [
  {
   "cell_type": "code",
   "execution_count": 1,
   "metadata": {},
   "outputs": [],
   "source": [
    "import cv2\n",
    "import pytesseract\n",
    "import re\n",
    "import json"
   ]
  },
  {
   "cell_type": "code",
   "execution_count": 2,
   "metadata": {
    "scrolled": true
   },
   "outputs": [],
   "source": [
    "img = cv2.imread('./template/uittreksel-KVK-edit-enhance (2).jpg')\n",
    "imgStr = pytesseract.image_to_string(img,config='--psm 4')"
   ]
  },
  {
   "cell_type": "code",
   "execution_count": 3,
   "metadata": {},
   "outputs": [],
   "source": [
    "# form data to add the key words\n",
    "cardInformationList=[\"Naam\",\"Titel\",\"Bevoegdheid\",\"Datum in functie\"]\n",
    "customerInformationList=[\"KvK-nummer\",\"RSIN\",\"Rechtsvorm\",\"Bezoekadres\",\"Telefoonnummer\"]\n",
    "\n",
    "#formDataList=[\"Naam\",\"Titel\"]"
   ]
  },
  {
   "cell_type": "code",
   "execution_count": 4,
   "metadata": {},
   "outputs": [
    {
     "name": "stdout",
     "output_type": "stream",
     "text": [
      "KvK-nummer\n",
      "59992298\n",
      "{'KvK-nummer': '59992298'}\n",
      "RSIN\n",
      "953722791\n",
      "{'KvK-nummer': '59992298', 'RSIN': '953722791'}\n",
      "Rechtsvorm\n",
      "Vereniging met volledige rechtsbevoegdheid\n",
      "{'KvK-nummer': '59992298', 'RSIN': '953722791', 'Rechtsvorm': 'Vereniging met volledige rechtsbevoegdheid'}\n",
      "Bezoekadres\n",
      "Ruimtevaartbaan 31, 34020K Usselstein\n",
      "{'KvK-nummer': '59992298', 'RSIN': '953722791', 'Rechtsvorm': 'Vereniging met volledige rechtsbevoegdheid', 'Bezoekadres': 'Ruimtevaartbaan 31, 34020K Usselstein'}\n",
      "Telefoonnummer\n",
      "0644207733\n",
      "{'KvK-nummer': '59992298', 'RSIN': '953722791', 'Rechtsvorm': 'Vereniging met volledige rechtsbevoegdheid', 'Bezoekadres': 'Ruimtevaartbaan 31, 34020K Usselstein', 'Telefoonnummer': '0644207733'}\n",
      "{\"card_info\": [{\"Naam\": \"Al Sud, Mana\", \"Datum in functie\": \"13-02-2014 (datum registratie: 13-02-2014)\", \"Titel\": \"Voorzitter\", \"Bevoegdheid\": \"Gezameniijk bevoegd (met andere bestuurder(s), zie statuten)\"}, {\"Naam\": \"Shayea - Al-Khamas, Nidyal Shakir\", \"Datum in functie\": \"13-02-2014 (datum registratie: 13-02-2014)\", \"Bevoegdheid\": \"Gezamenlijk bevoegd (met andere bestuurder(s), zie statuten)\"}, {\"Naam\": \"\", \"Datum in functie\": \"13-02-2014 (datum registratie: 13-02-2014)\", \"Titel\": \"Penningmeester\", \"Bevoegdheid\": \"Gezamenlijk bevoegd (met andere bestuurder(s), zie statuten)\"}, {\"Naam\": \"ALSabti, Rafid Abdulla Najim\", \"Datum in functie\": \"13-02-2014 (datum registratie: 13-02-2014)\"}, {\"Naam\": \"Badri, Hamed\"}], \"cust_info\": {\"KvK-nummer\": \"59992298\", \"RSIN\": \"953722791\", \"Rechtsvorm\": \"Vereniging met volledige rechtsbevoegdheid\", \"Bezoekadres\": \"Ruimtevaartbaan 31, 34020K Usselstein\", \"Telefoonnummer\": \"0644207733\"}}\n"
     ]
    }
   ],
   "source": [
    "dataList=[]\n",
    "dataDict={}\n",
    "custInfoDict={}\n",
    "# process the text and filter out the form data key values\n",
    "for line in imgStr.split('\\n'): \n",
    "    #print(line)\n",
    "    for eachElement in cardInformationList:        \n",
    "        if eachElement in line:\n",
    "            keyVal = line.split(eachElement)            \n",
    "            if eachElement in dataDict.keys():\n",
    "                dataList.append(dataDict)\n",
    "                dataDict={}\n",
    "            val = mystring = re.sub(r\"^\\W+\", \"\", keyVal[1])              \n",
    "            dataDict[eachElement]=val \n",
    "    for eachElement in customerInformationList:\n",
    "        if eachElement in line:\n",
    "            keyVal = line.split(eachElement)\n",
    "            print(eachElement)\n",
    "            print(re.sub(r\"^\\W+\", \"\", keyVal[1]))\n",
    "            val = re.sub(r\"^\\W+\", \"\", keyVal[1])\n",
    "            custInfoDict[eachElement]=val\n",
    "            print(custInfoDict)\n",
    "\n",
    "dataList.append(dataDict)\n",
    "# convert the data list to json format\n",
    "\n",
    "json_dict={}\n",
    "json_dict['card_info'] = dataList\n",
    "json_dict['cust_info'] = custInfoDict\n",
    "\n",
    "json_data = json.dumps(json_dict)\n",
    "print(json_data)\n",
    "   "
   ]
  },
  {
   "cell_type": "code",
   "execution_count": null,
   "metadata": {},
   "outputs": [],
   "source": []
  }
 ],
 "metadata": {
  "kernelspec": {
   "display_name": "Python 3",
   "language": "python",
   "name": "python3"
  },
  "language_info": {
   "codemirror_mode": {
    "name": "ipython",
    "version": 3
   },
   "file_extension": ".py",
   "mimetype": "text/x-python",
   "name": "python",
   "nbconvert_exporter": "python",
   "pygments_lexer": "ipython3",
   "version": "3.6.5"
  }
 },
 "nbformat": 4,
 "nbformat_minor": 2
}
