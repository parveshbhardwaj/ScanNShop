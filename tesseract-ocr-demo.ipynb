{
 "cells": [
  {
   "cell_type": "code",
   "execution_count": 1,
   "metadata": {},
   "outputs": [],
   "source": [
    "import cv2\n",
    "import pytesseract\n",
    "import re\n",
    "import json\n",
    "from http.server import BaseHTTPRequestHandler, HTTPServer\n",
    "import cgi\n",
    "import logging\n",
    "import sys\n"
   ]
  },
  {
   "cell_type": "code",
   "execution_count": 2,
   "metadata": {},
   "outputs": [],
   "source": [
    "def fetch_form_data_list(fileName):\n",
    "    card_list=[]\n",
    "    cust_list=[]\n",
    "    cardField=False\n",
    "    custField=False\n",
    "    with open(fileName, 'r') as file:\n",
    "        for line in file:\n",
    "            line = line.strip() \n",
    "            if line == \"\":\n",
    "                continue\n",
    "                \n",
    "            if \"[CardField]\" in line:\n",
    "                cardField=True\n",
    "                custField=False                \n",
    "                continue\n",
    "            \n",
    "            if \"[CustomerField]\" in line:\n",
    "                cardField=False\n",
    "                custField=True                \n",
    "                continue\n",
    "                \n",
    "            if cardField:\n",
    "                card_list.append(line) \n",
    "            elif custField:\n",
    "                cust_list.append(line)\n",
    "               \n",
    "      \n",
    "    return card_list,cust_list"
   ]
  },
  {
   "cell_type": "code",
   "execution_count": 3,
   "metadata": {},
   "outputs": [],
   "source": [
    "def process_image(fileName,formType):\n",
    "    img = cv2.imread('./template/'+fileName)\n",
    "    imgStr = pytesseract.image_to_string(img,config='--psm 4')\n",
    "    # form data to add the key words\n",
    "    #formDataList=[\"Naam\",\"Titel\",\"Bevoegdheid\",\"Datum in functie\"]\n",
    "    fileTypeDict={'reg':'formdata.props','fed':'formdata.props'}   \n",
    "    filePath=\"./config/\"+fileTypeDict[formType]\n",
    "    cardDataList,custDataList= fetch_form_data_list(filePath)\n",
    "    #formDataList=[\"Naam\",\"Titel\"]\n",
    "    dataList=[]\n",
    "    dataDict={}\n",
    "    custInfoDict={}\n",
    "    # process the text and filter out the form data key values\n",
    "    for line in imgStr.split('\\n'): \n",
    "        for eachElement in cardDataList:        \n",
    "            if eachElement in line:\n",
    "                keyVal = line.split(eachElement)            \n",
    "                if eachElement in dataDict.keys():\n",
    "                    dataList.append(dataDict)\n",
    "                    dataDict={}\n",
    "                val = mystring = re.sub(r\"^\\W+\", \"\", keyVal[1])              \n",
    "                dataDict[eachElement]=val    \n",
    "        for eachElement in custDataList:\n",
    "            if eachElement in line:                \n",
    "                keyVal = line.split(eachElement)                \n",
    "                val = re.sub(r\"^\\W+\", \"\", keyVal[1])\n",
    "                custInfoDict[eachElement]=val               \n",
    "\n",
    "    dataList.append(dataDict)\n",
    "    # convert the data list to json format    \n",
    "    json_dict={}\n",
    "    json_dict['card_info'] = dataList\n",
    "    json_dict['cust_info'] = custInfoDict\n",
    "    json_data = json.dumps(json_dict)\n",
    "       \n",
    "    return json_data"
   ]
  },
  {
   "cell_type": "code",
   "execution_count": 4,
   "metadata": {},
   "outputs": [],
   "source": [
    "class RequestHandler(BaseHTTPRequestHandler):\n",
    "    def do_OPTIONS(self):\n",
    "        self.send_response(200)\n",
    "        self.send_header('Content-type', 'application/json')\n",
    "        self.send_header(\"Cache-Control\", \"no-cache\")\n",
    "        self.send_header(\"Access-Control-Allow-Origin\", \"http://localhost:3000\")\n",
    "        self.send_header(\"Access-Control-Allow-Methods\", \"POST, GET\")\n",
    "        self.send_header(\"Access-Control-Allow-Headers\", \"Origin, X-Requested-With, Content-Type, Accept, Authorization,Access-Control-Allow-Origin\")\n",
    "        \n",
    "        self.end_headers()\n",
    "        return\n",
    "    \n",
    "    def do_GET(self):        \n",
    "        self.send_response(200)\n",
    "        self.send_header('Content-type', 'application/json')\n",
    "        self.send_header(\"Cache-Control\", \"no-cache\")\n",
    "        self.send_header(\"Access-Control-Allow-Origin\", \"http://localhost:3000\")\n",
    "        self.send_header(\"Access-Control-Allow-Methods\", \"POST, GET\")\n",
    "        self.send_header(\"Access-Control-Allow-Headers\", \"Origin, X-Requested-With, Content-Type, Accept, Authorization,Access-Control-Allow-Origin\")\n",
    "        \n",
    "        self.end_headers()\n",
    "        output = '{\"result\":\"success\"}'\n",
    "        self.wfile.write(output.encode('utf-8'))\n",
    "        return\n",
    "    \n",
    "    def do_POST(self):  \n",
    "        try:\n",
    "            '''Handle POST requests.'''\n",
    "            logging.debug('POST %s' % (self.path))  \n",
    "            ctype, pdict = cgi.parse_header(self.headers['content-type'])\n",
    "            if ctype =='application/json':\n",
    "                content_length = cgi.parse_header(self.headers['content-length'])\n",
    "                print(content_length[0])\n",
    "                length = int(content_length[0])                \n",
    "                post_body = self.rfile.read(length)\n",
    "                data = json.loads(post_body.decode('utf-8'))\n",
    "                imageName=data['imageName']\n",
    "                imageType=data['imageType']\n",
    "                print(imageName)\n",
    "                print(imageType)\n",
    "                output = process_image(imageName,imageType)             \n",
    "                self.send_response(200)\n",
    "                self.send_header('Content-type', 'application/json')\n",
    "                self.send_header(\"Access-Control-Allow-Origin\", \"http://localhost:3000\")\n",
    "                self.send_header(\"Access-Control-Allow-Methods\", \"POST, GET\")\n",
    "                self.send_header(\"Access-Control-Allow-Headers\", \"Origin, X-Requested-With, Content-Type, Accept, Authorization,Access-Control-Allow-Origin\")\n",
    "                self.end_headers()            \n",
    "                self.wfile.write(output.encode('utf-8'))  \n",
    "                print(output)\n",
    "            return            \n",
    "        except:\n",
    "            self.send_error(404, \"{}\".format(sys.exc_info()[0]))\n",
    "            \n",
    "            self.send_header(\"Access-Control-Allow-Origin\", \"http://localhost:3000\")\n",
    "            self.send_header(\"Access-Control-Allow-Methods\", \"POST, GET\")\n",
    "            self.send_header(\"Access-Control-Allow-Headers\", \"Origin, X-Requested-With, Content-Type, Accept, Authorization,Access-Control-Allow-Origin\")\n",
    "\n",
    "            self.end_headers()   \n",
    "            print(sys.exc_info())     \n",
    "   \n",
    "\n"
   ]
  },
  {
   "cell_type": "code",
   "execution_count": null,
   "metadata": {},
   "outputs": [
    {
     "name": "stdout",
     "output_type": "stream",
     "text": [
      "Listening on port 8880 ...\n",
      "69\n",
      "uittreksel-KVK-edit-enhance (2).jpg\n",
      "reg\n"
     ]
    },
    {
     "name": "stderr",
     "output_type": "stream",
     "text": [
      "127.0.0.1 - - [10/Oct/2018 22:17:43] \"POST / HTTP/1.1\" 200 -\n"
     ]
    },
    {
     "name": "stdout",
     "output_type": "stream",
     "text": [
      "{\"card_info\": [{\"Naam\": \"Al Sud, Mana\", \"Datum in functie\": \"13-02-2014 (datum registratie: 13-02-2014)\", \"Titel\": \"Voorzitter\", \"Bevoegdheid\": \"Gezameniijk bevoegd (met andere bestuurder(s), zie statuten)\"}, {\"Naam\": \"Shayea - Al-Khamas, Nidyal Shakir\", \"Datum in functie\": \"13-02-2014 (datum registratie: 13-02-2014)\", \"Bevoegdheid\": \"Gezamenlijk bevoegd (met andere bestuurder(s), zie statuten)\"}, {\"Naam\": \"\", \"Datum in functie\": \"13-02-2014 (datum registratie: 13-02-2014)\", \"Titel\": \"Penningmeester\", \"Bevoegdheid\": \"Gezamenlijk bevoegd (met andere bestuurder(s), zie statuten)\"}, {\"Naam\": \"ALSabti, Rafid Abdulla Najim\", \"Datum in functie\": \"13-02-2014 (datum registratie: 13-02-2014)\"}, {\"Naam\": \"Badri, Hamed\"}], \"cust_info\": {\"KvK-nummer\": \"59992298\", \"RSIN\": \"953722791\", \"Rechtsvorm\": \"Vereniging met volledige rechtsbevoegdheid\", \"Bezoekadres\": \"Ruimtevaartbaan 31, 34020K Usselstein\", \"Telefoonnummer\": \"0644207733\"}}\n",
      "69\n",
      "uittreksel-KVK-edit-enhance (2).jpg\n",
      "reg\n"
     ]
    },
    {
     "name": "stderr",
     "output_type": "stream",
     "text": [
      "127.0.0.1 - - [10/Oct/2018 22:19:31] \"POST / HTTP/1.1\" 200 -\n"
     ]
    },
    {
     "name": "stdout",
     "output_type": "stream",
     "text": [
      "{\"card_info\": [{\"Naam\": \"Al Sud, Mana\", \"Datum in functie\": \"13-02-2014 (datum registratie: 13-02-2014)\", \"Titel\": \"Voorzitter\", \"Bevoegdheid\": \"Gezameniijk bevoegd (met andere bestuurder(s), zie statuten)\"}, {\"Naam\": \"Shayea - Al-Khamas, Nidyal Shakir\", \"Datum in functie\": \"13-02-2014 (datum registratie: 13-02-2014)\", \"Bevoegdheid\": \"Gezamenlijk bevoegd (met andere bestuurder(s), zie statuten)\"}, {\"Naam\": \"\", \"Datum in functie\": \"13-02-2014 (datum registratie: 13-02-2014)\", \"Titel\": \"Penningmeester\", \"Bevoegdheid\": \"Gezamenlijk bevoegd (met andere bestuurder(s), zie statuten)\"}, {\"Naam\": \"ALSabti, Rafid Abdulla Najim\", \"Datum in functie\": \"13-02-2014 (datum registratie: 13-02-2014)\"}, {\"Naam\": \"Badri, Hamed\"}], \"cust_info\": {\"KvK-nummer\": \"59992298\", \"RSIN\": \"953722791\", \"Rechtsvorm\": \"Vereniging met volledige rechtsbevoegdheid\", \"Bezoekadres\": \"Ruimtevaartbaan 31, 34020K Usselstein\", \"Telefoonnummer\": \"0644207733\"}}\n",
      "69\n",
      "uittreksel-KVK-edit-enhance (2).jpg\n",
      "reg\n"
     ]
    },
    {
     "name": "stderr",
     "output_type": "stream",
     "text": [
      "127.0.0.1 - - [10/Oct/2018 22:23:20] \"POST / HTTP/1.1\" 200 -\n"
     ]
    },
    {
     "name": "stdout",
     "output_type": "stream",
     "text": [
      "{\"card_info\": [{\"Naam\": \"Al Sud, Mana\", \"Datum in functie\": \"13-02-2014 (datum registratie: 13-02-2014)\", \"Titel\": \"Voorzitter\", \"Bevoegdheid\": \"Gezameniijk bevoegd (met andere bestuurder(s), zie statuten)\"}, {\"Naam\": \"Shayea - Al-Khamas, Nidyal Shakir\", \"Datum in functie\": \"13-02-2014 (datum registratie: 13-02-2014)\", \"Bevoegdheid\": \"Gezamenlijk bevoegd (met andere bestuurder(s), zie statuten)\"}, {\"Naam\": \"\", \"Datum in functie\": \"13-02-2014 (datum registratie: 13-02-2014)\", \"Titel\": \"Penningmeester\", \"Bevoegdheid\": \"Gezamenlijk bevoegd (met andere bestuurder(s), zie statuten)\"}, {\"Naam\": \"ALSabti, Rafid Abdulla Najim\", \"Datum in functie\": \"13-02-2014 (datum registratie: 13-02-2014)\"}, {\"Naam\": \"Badri, Hamed\"}], \"cust_info\": {\"KvK-nummer\": \"59992298\", \"RSIN\": \"953722791\", \"Rechtsvorm\": \"Vereniging met volledige rechtsbevoegdheid\", \"Bezoekadres\": \"Ruimtevaartbaan 31, 34020K Usselstein\", \"Telefoonnummer\": \"0644207733\"}}\n",
      "69\n",
      "uittreksel-KVK-edit-enhance (2).jpg\n",
      "reg\n"
     ]
    },
    {
     "name": "stderr",
     "output_type": "stream",
     "text": [
      "127.0.0.1 - - [10/Oct/2018 22:25:25] \"POST / HTTP/1.1\" 200 -\n"
     ]
    },
    {
     "name": "stdout",
     "output_type": "stream",
     "text": [
      "{\"card_info\": [{\"Naam\": \"Al Sud, Mana\", \"Datum in functie\": \"13-02-2014 (datum registratie: 13-02-2014)\", \"Titel\": \"Voorzitter\", \"Bevoegdheid\": \"Gezameniijk bevoegd (met andere bestuurder(s), zie statuten)\"}, {\"Naam\": \"Shayea - Al-Khamas, Nidyal Shakir\", \"Datum in functie\": \"13-02-2014 (datum registratie: 13-02-2014)\", \"Bevoegdheid\": \"Gezamenlijk bevoegd (met andere bestuurder(s), zie statuten)\"}, {\"Naam\": \"\", \"Datum in functie\": \"13-02-2014 (datum registratie: 13-02-2014)\", \"Titel\": \"Penningmeester\", \"Bevoegdheid\": \"Gezamenlijk bevoegd (met andere bestuurder(s), zie statuten)\"}, {\"Naam\": \"ALSabti, Rafid Abdulla Najim\", \"Datum in functie\": \"13-02-2014 (datum registratie: 13-02-2014)\"}, {\"Naam\": \"Badri, Hamed\"}], \"cust_info\": {\"KvK-nummer\": \"59992298\", \"RSIN\": \"953722791\", \"Rechtsvorm\": \"Vereniging met volledige rechtsbevoegdheid\", \"Bezoekadres\": \"Ruimtevaartbaan 31, 34020K Usselstein\", \"Telefoonnummer\": \"0644207733\"}}\n",
      "69\n",
      "uittreksel-KVK-edit-enhance (2).jpg\n",
      "reg\n"
     ]
    },
    {
     "name": "stderr",
     "output_type": "stream",
     "text": [
      "127.0.0.1 - - [10/Oct/2018 22:25:39] \"POST / HTTP/1.1\" 200 -\n"
     ]
    },
    {
     "name": "stdout",
     "output_type": "stream",
     "text": [
      "{\"card_info\": [{\"Naam\": \"Al Sud, Mana\", \"Datum in functie\": \"13-02-2014 (datum registratie: 13-02-2014)\", \"Titel\": \"Voorzitter\", \"Bevoegdheid\": \"Gezameniijk bevoegd (met andere bestuurder(s), zie statuten)\"}, {\"Naam\": \"Shayea - Al-Khamas, Nidyal Shakir\", \"Datum in functie\": \"13-02-2014 (datum registratie: 13-02-2014)\", \"Bevoegdheid\": \"Gezamenlijk bevoegd (met andere bestuurder(s), zie statuten)\"}, {\"Naam\": \"\", \"Datum in functie\": \"13-02-2014 (datum registratie: 13-02-2014)\", \"Titel\": \"Penningmeester\", \"Bevoegdheid\": \"Gezamenlijk bevoegd (met andere bestuurder(s), zie statuten)\"}, {\"Naam\": \"ALSabti, Rafid Abdulla Najim\", \"Datum in functie\": \"13-02-2014 (datum registratie: 13-02-2014)\"}, {\"Naam\": \"Badri, Hamed\"}], \"cust_info\": {\"KvK-nummer\": \"59992298\", \"RSIN\": \"953722791\", \"Rechtsvorm\": \"Vereniging met volledige rechtsbevoegdheid\", \"Bezoekadres\": \"Ruimtevaartbaan 31, 34020K Usselstein\", \"Telefoonnummer\": \"0644207733\"}}\n"
     ]
    }
   ],
   "source": [
    "if __name__ == \"__main__\":\n",
    "    server_address = ('localhost',8880)\n",
    "    httpd = HTTPServer(server_address, RequestHandler)\n",
    "    print('Listening on port 8880 ...')\n",
    "    httpd.serve_forever()"
   ]
  },
  {
   "cell_type": "code",
   "execution_count": null,
   "metadata": {},
   "outputs": [],
   "source": []
  },
  {
   "cell_type": "code",
   "execution_count": null,
   "metadata": {},
   "outputs": [],
   "source": []
  }
 ],
 "metadata": {
  "kernelspec": {
   "display_name": "Python 3",
   "language": "python",
   "name": "python3"
  },
  "language_info": {
   "codemirror_mode": {
    "name": "ipython",
    "version": 3
   },
   "file_extension": ".py",
   "mimetype": "text/x-python",
   "name": "python",
   "nbconvert_exporter": "python",
   "pygments_lexer": "ipython3",
   "version": "3.6.5"
  }
 },
 "nbformat": 4,
 "nbformat_minor": 2
}
